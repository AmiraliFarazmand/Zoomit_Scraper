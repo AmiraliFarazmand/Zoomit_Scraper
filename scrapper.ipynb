{
 "cells": [
  {
   "cell_type": "code",
   "execution_count": 5,
   "metadata": {},
   "outputs": [],
   "source": [
    "import selenium\n",
    "from selenium import webdriver\n",
    "from selenium.webdriver.common.by import By\n",
    "from selenium.webdriver.common.keys import Keys\n",
    "from selenium.webdriver.support.ui import WebDriverWait\n",
    "\n",
    "\n",
    "import pandas as pd"
   ]
  },
  {
   "cell_type": "code",
   "execution_count": null,
   "metadata": {},
   "outputs": [],
   "source": []
  },
  {
   "cell_type": "code",
   "execution_count": 2,
   "metadata": {},
   "outputs": [],
   "source": [
    "page_no=1\n",
    "url = f\"https://www.zoomit.ir/archive/?sort=Newest&publishPeriod=All&readingTimeRange=All&pageNumber={page_no}\"\n",
    "wd = webdriver.Edge(keep_alive=True)\n",
    "wd.maximize_window()\n",
    "wd.get(url)\n",
    "wd.implicitly_wait(5.56)  "
   ]
  },
  {
   "cell_type": "code",
   "execution_count": 3,
   "metadata": {},
   "outputs": [
    {
     "name": "stdout",
     "output_type": "stream",
     "text": [
      "https://www.zoomit.ir/software-application/424400-crowdstrike-apologizing-10-uber-eats-gift-card/\n",
      "https://www.zoomit.ir/tech/424407-amazon-prime-11-year-nba-streaming-deal/\n",
      "https://www.zoomit.ir/security/424408-meta-takes-down-63000-instagram-accounts-extortion-scams/\n",
      "https://www.zoomit.ir/os/424406-no-sign-microsoft-plans-limit-crowdstrike-access-windows-after-outage/\n",
      "https://www.zoomit.ir/cryptocurrency/421959-hamster-kombat/\n",
      "https://www.zoomit.ir/energy-environment/424403-cocaine-sharks-found-off-coast-brazil/\n",
      "https://www.zoomit.ir/howto/423840-most-underrated-photo-editing-effects/\n",
      "https://www.zoomit.ir/ai-articles/424402-apple-invites-developers-in-person-apple-intelligence-recap/\n",
      "https://www.zoomit.ir/mobile/424401-pixel-9-pro-fold-display-rumors/\n",
      "https://www.zoomit.ir/ai-articles/424399-apple-intelligence-coming-later-ios-18-dev-beta/\n",
      "https://www.zoomit.ir/software-application/421196-best-software-aerospace-engineering/\n",
      "https://www.zoomit.ir/software-application/424397-apple-maps-web-beta/\n",
      "https://www.zoomit.ir/processor/424398-amd-ryzen-9000-desktop-delay-caution/\n",
      "https://www.zoomit.ir/mobile/424394-exclusive-google-pixel-9-display/\n",
      "https://www.zoomit.ir/os/424391-samsung-to-bring-apple-users-favorite-features/\n",
      "https://www.zoomit.ir/mobile/424393-samsung-folds-london-bus-promote-galaxy-phones/\n",
      "https://www.zoomit.ir/ai-articles/424395-x-grok-powered-account-feature/\n",
      "https://www.zoomit.ir/ai-articles/424390-gpt-4o-mini-processes-200b-tokens-daily/\n",
      "https://www.zoomit.ir/pr/424373-kifpool-toncoin-token/\n",
      "https://www.zoomit.ir/car/424387-musk-says-move-against-ev-hurt-competitors/\n"
     ]
    }
   ],
   "source": [
    "post_links = wd.find_elements(By.XPATH, \"//a[contains(@class, 'BrowseArticleListItemDesktop__WrapperLink')]\")\n",
    "\n",
    "links = [link.get_attribute('href') for link in post_links]\n",
    "\n",
    "for link in links:\n",
    "    print(link)\n",
    "\n"
   ]
  },
  {
   "cell_type": "code",
   "execution_count": 4,
   "metadata": {},
   "outputs": [
    {
     "data": {
      "text/plain": [
       "20"
      ]
     },
     "execution_count": 4,
     "metadata": {},
     "output_type": "execute_result"
    }
   ],
   "source": [
    "len(links)"
   ]
  },
  {
   "cell_type": "code",
   "execution_count": null,
   "metadata": {},
   "outputs": [],
   "source": [
    "wd.quit()"
   ]
  }
 ],
 "metadata": {
  "kernelspec": {
   "display_name": "Python 3",
   "language": "python",
   "name": "python3"
  },
  "language_info": {
   "codemirror_mode": {
    "name": "ipython",
    "version": 3
   },
   "file_extension": ".py",
   "mimetype": "text/x-python",
   "name": "python",
   "nbconvert_exporter": "python",
   "pygments_lexer": "ipython3",
   "version": "3.11.6"
  }
 },
 "nbformat": 4,
 "nbformat_minor": 2
}
