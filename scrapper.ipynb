{
 "cells": [
  {
   "cell_type": "code",
   "execution_count": null,
   "metadata": {},
   "outputs": [],
   "source": [
    "import selenium\n",
    "from selenium import webdriver\n",
    "from selenium.webdriver.common.by import By\n",
    "from selenium.webdriver.common.keys import Keys\n",
    "from selenium.webdriver.support.ui import WebDriverWait\n",
    "\n",
    "\n",
    "import pandas as pd\n"
   ]
  },
  {
   "cell_type": "code",
   "execution_count": null,
   "metadata": {},
   "outputs": [],
   "source": []
  },
  {
   "cell_type": "code",
   "execution_count": null,
   "metadata": {},
   "outputs": [],
   "source": [
    "\n",
    "page_no=1\n",
    "url = f\"https://www.zoomit.ir/archive/?sort=Newest&publishPeriod=All&readingTimeRange=All&pageNumber={page_no}\"\n",
    "wd = webdriver.Edge(keep_alive=True)\n",
    "wd.maximize_window()\n",
    "wd.get(url)\n",
    "wd.implicitly_wait(7.56)  \n",
    "\n",
    "wait = WebDriverWait(wd, 8.8)\n",
    "# Store the ID of the original window\n",
    "original_window = wd.current_window_handle"
   ]
  },
  {
   "cell_type": "code",
   "execution_count": null,
   "metadata": {},
   "outputs": [],
   "source": [
    "post_links = wd.find_elements(By.XPATH, \"//a[contains(@class, 'BrowseArticleListItemDesktop__WrapperLink')]\")\n",
    "\n",
    "links = [link.get_attribute('href') for link in post_links]\n",
    "\n",
    "for link in links:\n",
    "    print(link)\n",
    "\n"
   ]
  },
  {
   "cell_type": "code",
   "execution_count": null,
   "metadata": {},
   "outputs": [],
   "source": [
    "len(links)"
   ]
  },
  {
   "cell_type": "code",
   "execution_count": null,
   "metadata": {},
   "outputs": [],
   "source": [
    "# for link in links:\n",
    "#     post = wd.switch_to.new_window(link)\n",
    "#     # wait(0.3)\n",
    "# for window_handle in wd.window_handles:\n",
    "#     if window_handle != original_window:\n",
    "#         # wd.switch_to.window(window_handle)\n",
    "#         wd.close()\n",
    "#         break\n",
    "for link in links: \n",
    "    post = wd.switch_to.new_window('tab')\n",
    "    wd.get(link)    \n",
    "    wd.implicitly_wait(1.15)\n",
    "    xpath=\"//*[@id=\\\"__next\\\"]/div[2]/div[1]/main/article/header/div/div/h1\"\n",
    "    title = wd.find_element(By.XPATH, xpath).text\n",
    "\n",
    "    xpath_pattern = '//*[@id=\"__next\"]/div[2]/div[1]/main/article/header/div/div/div[2]/div[1]/a/span'\n",
    "    span_elements = wd.find_elements(By.XPATH, xpath_pattern)\n",
    "    tags = []\n",
    "    for elm in span_elements:\n",
    "        tag_text = elm.text\n",
    "        tags.append(tag_text)\n",
    "    article = wd.find_element(By.XPATH, \"//*[@id=\\\"__next\\\"]/div[2]/div[1]/main/article/div/div[5]/div/div/div\").text\n",
    "    # print(title.text,tags,article.text,sep='\\n')\n",
    "    wd.close()\n",
    "\n",
    "    #Switch back to the old tab or window\n",
    "    wd.switch_to.window(original_window)\n",
    "\n",
    "    # print(title,tags, article, sep='\\n')"
   ]
  },
  {
   "cell_type": "code",
   "execution_count": null,
   "metadata": {},
   "outputs": [],
   "source": [
    "# work on 1st link:\n",
    "link = links[0]\n",
    "post = wd.switch_to.new_window('tab')\n",
    "wd.get(link)    \n",
    "wd.implicitly_wait(1.15)\n",
    "xpath=\"//*[@id=\\\"__next\\\"]/div[2]/div[1]/main/article/header/div/div/h1\"\n",
    "title = wd.find_element(By.XPATH, xpath).text\n",
    "\n",
    "xpath_pattern = '//*[@id=\"__next\"]/div[2]/div[1]/main/article/header/div/div/div[2]/div[1]/a/span'\n",
    "span_elements = wd.find_elements(By.XPATH, xpath_pattern)\n",
    "tags = []\n",
    "for elm in span_elements:\n",
    "    tag_text = elm.text\n",
    "    tags.append(tag_text)\n",
    "article = wd.find_element(By.XPATH, \"//*[@id=\\\"__next\\\"]/div[2]/div[1]/main/article/div/div[3]/div/div/span\").text + \"\\n\"\n",
    "article += wd.find_element(By.XPATH, \"//*[@id=\\\"__next\\\"]/div[2]/div[1]/main/article/div/div[5]/div/div/div\").text\n",
    "# print(title.text,tags,article.text,sep='\\n')\n",
    "wd.close()\n",
    "\n",
    "#Switch back to the old tab or window\n",
    "wd.switch_to.window(original_window)\n",
    "\n",
    "print(title,tags, article, sep='\\n')"
   ]
  },
  {
   "cell_type": "code",
   "execution_count": null,
   "metadata": {},
   "outputs": [],
   "source": [
    "print(title,tags, article, sep='\\n----------------------------------------------------------------\\n')"
   ]
  },
  {
   "cell_type": "code",
   "execution_count": null,
   "metadata": {},
   "outputs": [],
   "source": [
    "print(article)"
   ]
  },
  {
   "cell_type": "code",
   "execution_count": null,
   "metadata": {},
   "outputs": [],
   "source": [
    "wd.quit()"
   ]
  },
  {
   "cell_type": "code",
   "execution_count": null,
   "metadata": {},
   "outputs": [],
   "source": []
  }
 ],
 "metadata": {
  "kernelspec": {
   "display_name": "Python 3",
   "language": "python",
   "name": "python3"
  },
  "language_info": {
   "codemirror_mode": {
    "name": "ipython",
    "version": 3
   },
   "file_extension": ".py",
   "mimetype": "text/x-python",
   "name": "python",
   "nbconvert_exporter": "python",
   "pygments_lexer": "ipython3",
   "version": "3.11.6"
  }
 },
 "nbformat": 4,
 "nbformat_minor": 2
}
