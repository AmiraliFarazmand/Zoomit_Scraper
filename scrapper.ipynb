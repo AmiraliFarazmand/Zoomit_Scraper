{
 "cells": [
  {
   "cell_type": "code",
   "execution_count": null,
   "metadata": {},
   "outputs": [],
   "source": [
    "import selenium\n",
    "from selenium import webdriver\n",
    "from selenium.webdriver.common.by import By\n",
    "from selenium.webdriver.common.keys import Keys\n",
    "from selenium.webdriver.support.ui import WebDriverWait\n",
    "\n",
    "\n",
    "import pandas as pd\n"
   ]
  },
  {
   "cell_type": "code",
   "execution_count": null,
   "metadata": {},
   "outputs": [],
   "source": []
  },
  {
   "cell_type": "code",
   "execution_count": null,
   "metadata": {},
   "outputs": [],
   "source": [
    "\n",
    "page_no=1\n",
    "url = f\"https://www.zoomit.ir/archive/?sort=Newest&publishPeriod=All&readingTimeRange=All&pageNumber={page_no}\"\n",
    "wd = webdriver.Edge(keep_alive=True)\n",
    "wd.maximize_window()\n",
    "wd.get(url)\n",
    "wd.implicitly_wait(7.56)  \n",
    "\n",
    "wait = WebDriverWait(wd, 8.8)\n",
    "# Store the ID of the original window\n",
    "original_window = wd.current_window_handle"
   ]
  },
  {
   "cell_type": "code",
   "execution_count": null,
   "metadata": {},
   "outputs": [],
   "source": [
    "post_links = wd.find_elements(By.XPATH, \"//a[contains(@class, 'BrowseArticleListItemDesktop__WrapperLink')]\")\n",
    "\n",
    "links = [link.get_attribute('href') for link in post_links]\n",
    "\n",
    "for link in links:\n",
    "    print(link)\n",
    "\n"
   ]
  },
  {
   "cell_type": "code",
   "execution_count": null,
   "metadata": {},
   "outputs": [],
   "source": [
    "len(links)"
   ]
  },
  {
   "cell_type": "code",
   "execution_count": null,
   "metadata": {},
   "outputs": [],
   "source": [
    "# for link in links:\n",
    "#     post = wd.switch_to.new_window(link)\n",
    "#     # wait(0.3)\n",
    "# for window_handle in wd.window_handles:\n",
    "#     if window_handle != original_window:\n",
    "#         # wd.switch_to.window(window_handle)\n",
    "#         wd.close()\n",
    "#         break\n",
    "for link in links: \n",
    "    post = wd.switch_to.new_window('tab')\n",
    "    wd.get(link)    \n",
    "    wd.implicitly_wait(1.15)\n",
    "    xpath=\"//*[@id=\\\"__next\\\"]/div[2]/div[1]/main/article/header/div/div/h1\"\n",
    "    title = wd.find_element(By.XPATH, xpath).text\n",
    "\n",
    "    xpath_pattern = '//*[@id=\"__next\"]/div[2]/div[1]/main/article/header/div/div/div[2]/div[1]/a/span'\n",
    "    span_elements = wd.find_elements(By.XPATH, xpath_pattern)\n",
    "    tags = []\n",
    "    for elm in span_elements:\n",
    "        tag_text = elm.text\n",
    "        tags.append(tag_text)\n",
    "    article = wd.find_element(By.XPATH, \"//*[@id=\\\"__next\\\"]/div[2]/div[1]/main/article/div/div[5]/div/div/div\").text\n",
    "    # print(title.text,tags,article.text,sep='\\n')\n",
    "    wd.close()\n",
    "\n",
    "    #Switch back to the old tab or window\n",
    "    wd.switch_to.window(original_window)\n",
    "\n",
    "    # print(title,tags, article, sep='\\n')"
   ]
  },
  {
   "cell_type": "code",
   "execution_count": null,
   "metadata": {},
   "outputs": [],
   "source": [
    "# work on 1st link:\n",
    "link = links[0]\n",
    "post = wd.switch_to.new_window('tab')\n",
    "wd.get(link)    \n",
    "wd.implicitly_wait(1.15)\n",
    "xpath=\"//*[@id=\\\"__next\\\"]/div[2]/div[1]/main/article/header/div/div/h1\"\n",
    "title = wd.find_element(By.XPATH, xpath).text\n",
    "\n",
    "xpath_pattern = '//*[@id=\"__next\"]/div[2]/div[1]/main/article/header/div/div/div[2]/div[1]/a/span'\n",
    "span_elements = wd.find_elements(By.XPATH, xpath_pattern)\n",
    "tags = []\n",
    "for elm in span_elements:\n",
    "    tag_text = elm.text\n",
    "    tags.append(tag_text)\n",
    "article = wd.find_element(By.XPATH, \"//*[@id=\\\"__next\\\"]/div[2]/div[1]/main/article/div/div[3]/div/div/span\").text + \"\\n\"\n",
    "article += wd.find_element(By.XPATH, \"//*[@id=\\\"__next\\\"]/div[2]/div[1]/main/article/div/div[5]/div/div/div\").text\n",
    "# print(title.text,tags,article.text,sep='\\n')\n",
    "wd.close()\n",
    "\n",
    "#Switch back to the old tab or window\n",
    "wd.switch_to.window(original_window)\n",
    "\n",
    "print(title,tags, article, sep='\\n')"
   ]
  },
  {
   "cell_type": "code",
   "execution_count": null,
   "metadata": {},
   "outputs": [],
   "source": [
    "print(title,tags, article, sep='\\n----------------------------------------------------------------\\n')"
   ]
  },
  {
   "cell_type": "code",
   "execution_count": null,
   "metadata": {},
   "outputs": [],
   "source": [
    "print(article)"
   ]
  },
  {
   "cell_type": "code",
   "execution_count": null,
   "metadata": {},
   "outputs": [],
   "source": [
    "wd.quit()"
   ]
  },
  {
   "cell_type": "code",
   "execution_count": 6,
   "metadata": {},
   "outputs": [
    {
     "name": "stdout",
     "output_type": "stream",
     "text": [
      "Published Date: 2024-07-29T17:45:00Z\n",
      "2024-07-29T17:45:00Z\n",
      "وان‌پلاس نمایشگر برخی از گوشی‌های قدیمی را رایگان عوض می‌کند\n",
      "['مطالب موبایل', 'فناوری']\n",
      "وان‌پلاس برای جلوگیری از خطای سخت‌افزاری که پیش‌تر در گوشی‌های سامسونگ نیز مشاهده شده،‌ طرح تعویض رایگان نمایشگر را راه‌اندازی کرده است.مشکل خط سبز در نمایشگرهای امولد گوشی‌های هوشمند به مشکلی رایج تبدیل شده است و این مشکل به یک تولیدکننده خاص محدود نیست. مشکل سخت‌افزاری مذکور اغلب پس از به‌روزرسانی نرم‌افزار گوشی ظاهر می‌شود و کاربران را به این باور اشتباه می‌اندازد که این دو با هم مرتبط هستند. \n",
      "وان‌پلاس، تنها شرکتی است که تاکنون گارانتی مادام‌العمر برای نمایشگر گوشی ارائه کرده است. اکنون این شرکت با طرح تعویض پیشگیرانه‌ی نمایشگر در برخی مدل‌ها، تعهد فراوان خود به کاربران را نشان می‌دهد. \n",
      "کاربری با نام Starcommander در ایکس طرحی جدید در نرم‌افزار Red Cable Club وان‌پلاس مشاهده کرده است. Red Cable Club به بازار هند محدود است و درنتیجه، این طرح فعلاً به کاربران گوشی وان پلاس در بازار هند محدود می‌شود. \n",
      "براساس طرح ارتقای رایگان مادام‌العمر نمایشگر، وان‌پلاس به کاربران گوشی‌های وان پلاس ۸ پرو، وان‌پلاس 8T ، وان‌ پلاس ۹ و وان‌پلاس 9R ارتقای نمایشگر رایگان ارائه می‌کند. انجام این طرح مشروط بر سالم‌بودن گوشی از‌نظر فیزیکی و انجام‌ندادن تعمیرات غیرمجاز روی آن است. \n",
      "طرح وان‌پلاس شامل سه بخش تشخیص جامع و ارتقا و تعویض نمایشگر و سرویس تمیزکاری عمیق است. در‌نتیجه، ارزیابی جامعی از قابلیت اطمینان نمایشگر گوشی کاربر صورت می‌گیرد و کاربران واجدشرایط پنل نمایشگر پیشرفته‌ی جدید دریافت می‌کنند. \n",
      "به‌گفته‌ی وان‌پلاس، پنل نمایشگر جدید رنگ‌ها را جذاب‌تر نشان می‌دهد و دوام بیشتری دارد. این نمایشگر به‌طور خاص برای عملکرد مناسب در محیط‌های مرطوب و با دمای زیاد طراحی شده است و پایداری بیشتری دارد. نهایتاً سرویس تمیزکاری عمیق و رایگان برای اطمینان از عملکرد بهینه‌ی ‌دستگاه انجام خواهد شد. \n",
      "وان‌پلاس اعلام کرده است که تعویض نمایشگر‌ها مطابق با استانداردهای وان‌پلاس انجام می‌شود. این طرح در ابتدا روی مدل وان‌ پلاس ۸ پرو انجام می‌شود و سپس به مدل‌های بعدی گسترش خواهد یافت. \n",
      "وان‌پلاس می‌گوید: «کاربران برای تشخیص صحت عملکرد دستگاه خود به مراکز ما مراجعه کنند. دستگاه‌های دارای آسیب‌های ناشی از فعالیت کاربر مانند سقوط یا ورود مایعات به داخل دستگاه  مشمول این طرح نخواهند شد.» \n",
      "وان‌پلاس درادامه افزود که این قابلیت فعلاً مختص بازار هند است؛ اما در حال بررسی گسترش آن به سایر مناطق ازجمله ایالات متحده است. هنوز مشخص نیست که گارانتی مادام‌العمر نمایشگر برای نمایشگری که تعویض می‌شود نیز قابلیت استفاده دارد یا خیر. \n",
      "\n"
     ]
    }
   ],
   "source": [
    "import requests\n",
    "from bs4 import BeautifulSoup\n",
    "\n",
    "\n",
    "url = 'https://www.zoomit.ir/mobile/424601-oneplus-new-free-display-panel-prevent-green-line/'\n",
    "response = requests.get(url)\n",
    "\n",
    "if response.status_code == 200:\n",
    "    html_content = response.text\n",
    "    soup = BeautifulSoup(html_content, 'html.parser')\n",
    "\n",
    "    title = soup.find(class_=\"fzMmhL\").get_text()\n",
    "\n",
    "    tags=[]\n",
    "    found_tags = soup.find_all(class_=\"cHbulB\")\n",
    "    for tag in found_tags:\n",
    "        tags.append(tag.get_text(separator=' ', strip=True))\n",
    "\n",
    "    article_text = soup.find(class_ = \"fNeDiY\").get_text() \n",
    "    for tag in soup.find_all(class_='gOVZGU'):\n",
    "        article_text += tag.get_text(separator=' ', strip=True) + ' \\n'\n",
    "\n",
    "    published_time = soup.find(\"meta\", {\"property\": \"article:published_time\"})\n",
    "    if published_time:\n",
    "        published_date = published_time[\"content\"]\n",
    "        print(\"Published Date:\", published_date)\n",
    "    print(published_date)\n",
    "    print(title,tags,article_text,sep='\\n')\n",
    "else:\n",
    "    pass\n"
   ]
  },
  {
   "cell_type": "code",
   "execution_count": null,
   "metadata": {},
   "outputs": [],
   "source": [
    "\n"
   ]
  },
  {
   "cell_type": "code",
   "execution_count": null,
   "metadata": {},
   "outputs": [],
   "source": []
  }
 ],
 "metadata": {
  "kernelspec": {
   "display_name": "Python 3",
   "language": "python",
   "name": "python3"
  },
  "language_info": {
   "codemirror_mode": {
    "name": "ipython",
    "version": 3
   },
   "file_extension": ".py",
   "mimetype": "text/x-python",
   "name": "python",
   "nbconvert_exporter": "python",
   "pygments_lexer": "ipython3",
   "version": "3.11.6"
  }
 },
 "nbformat": 4,
 "nbformat_minor": 2
}
