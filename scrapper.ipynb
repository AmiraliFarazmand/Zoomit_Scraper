{
 "cells": [
  {
   "cell_type": "code",
   "execution_count": 1,
   "metadata": {},
   "outputs": [],
   "source": [
    "import selenium\n",
    "from selenium import webdriver\n",
    "from selenium.webdriver.common.by import By\n",
    "from selenium.webdriver.common.keys import Keys\n",
    "from selenium.webdriver.support.ui import WebDriverWait\n",
    "\n",
    "\n",
    "import pandas as pd"
   ]
  },
  {
   "cell_type": "code",
   "execution_count": null,
   "metadata": {},
   "outputs": [],
   "source": []
  },
  {
   "cell_type": "code",
   "execution_count": 2,
   "metadata": {},
   "outputs": [],
   "source": [
    "\n",
    "page_no=1\n",
    "url = f\"https://www.zoomit.ir/archive/?sort=Newest&publishPeriod=All&readingTimeRange=All&pageNumber={page_no}\"\n",
    "wd = webdriver.Edge(keep_alive=True)\n",
    "wd.maximize_window()\n",
    "wd.get(url)\n",
    "wd.implicitly_wait(7.56)  \n",
    "\n",
    "wait = WebDriverWait(wd, 10)\n",
    "# Store the ID of the original window\n",
    "original_window = wd.current_window_handle"
   ]
  },
  {
   "cell_type": "code",
   "execution_count": 3,
   "metadata": {},
   "outputs": [
    {
     "name": "stdout",
     "output_type": "stream",
     "text": [
      "https://www.zoomit.ir/mobile/424410-galaxy-zfold-6-foldable-screen-video/\n",
      "https://www.zoomit.ir/health-medical/424363-health-benefits-exercise-snacking/\n",
      "https://www.zoomit.ir/software-application/424400-crowdstrike-apologizing-10-uber-eats-gift-card/\n",
      "https://www.zoomit.ir/tech/424407-amazon-prime-11-year-nba-streaming-deal/\n",
      "https://www.zoomit.ir/security/424408-meta-takes-down-63000-instagram-accounts-extortion-scams/\n",
      "https://www.zoomit.ir/os/424406-no-sign-microsoft-plans-limit-crowdstrike-access-windows-after-outage/\n",
      "https://www.zoomit.ir/cryptocurrency/421959-hamster-kombat/\n",
      "https://www.zoomit.ir/energy-environment/424403-cocaine-sharks-found-off-coast-brazil/\n",
      "https://www.zoomit.ir/howto/423840-most-underrated-photo-editing-effects/\n",
      "https://www.zoomit.ir/ai-articles/424402-apple-invites-developers-in-person-apple-intelligence-recap/\n",
      "https://www.zoomit.ir/mobile/424401-pixel-9-pro-fold-display-rumors/\n",
      "https://www.zoomit.ir/ai-articles/424399-apple-intelligence-coming-later-ios-18-dev-beta/\n",
      "https://www.zoomit.ir/software-application/421196-best-software-aerospace-engineering/\n",
      "https://www.zoomit.ir/software-application/424397-apple-maps-web-beta/\n",
      "https://www.zoomit.ir/processor/424398-amd-ryzen-9000-desktop-delay-caution/\n",
      "https://www.zoomit.ir/mobile/424394-exclusive-google-pixel-9-display/\n",
      "https://www.zoomit.ir/os/424391-samsung-to-bring-apple-users-favorite-features/\n",
      "https://www.zoomit.ir/mobile/424393-samsung-folds-london-bus-promote-galaxy-phones/\n",
      "https://www.zoomit.ir/ai-articles/424395-x-grok-powered-account-feature/\n",
      "https://www.zoomit.ir/ai-articles/424390-gpt-4o-mini-processes-200b-tokens-daily/\n"
     ]
    }
   ],
   "source": [
    "post_links = wd.find_elements(By.XPATH, \"//a[contains(@class, 'BrowseArticleListItemDesktop__WrapperLink')]\")\n",
    "\n",
    "links = [link.get_attribute('href') for link in post_links]\n",
    "\n",
    "for link in links:\n",
    "    print(link)\n",
    "\n"
   ]
  },
  {
   "cell_type": "code",
   "execution_count": 4,
   "metadata": {},
   "outputs": [
    {
     "data": {
      "text/plain": [
       "20"
      ]
     },
     "execution_count": 4,
     "metadata": {},
     "output_type": "execute_result"
    }
   ],
   "source": [
    "len(links)"
   ]
  },
  {
   "cell_type": "code",
   "execution_count": 6,
   "metadata": {},
   "outputs": [],
   "source": [
    "# for link in links:\n",
    "#     post = wd.switch_to.new_window(link)\n",
    "#     # wait(0.3)\n",
    "# for window_handle in wd.window_handles:\n",
    "#     if window_handle != original_window:\n",
    "#         # wd.switch_to.window(window_handle)\n",
    "#         wd.close()\n",
    "#         break\n",
    "post = wd.switch_to.new_window('tab')\n",
    "wd.get(links[0])    "
   ]
  },
  {
   "cell_type": "code",
   "execution_count": 17,
   "metadata": {},
   "outputs": [
    {
     "data": {
      "text/plain": [
       "'سامسونگ در اوایل این ماه از جدیدترین گوشی تاشدنی پرچمدار خود یعنی گلکسی زد فولد ۶ رونمایی کرد که نسبت\\u200cبه نسل قبلی خود پیشرفت فوق\\u200cالعاده\\u200cای نداشته است. البته نمایشگر دستگاه مورد بحث ارتقاء بسیار جذابی دریافت کرد.\\nویدیوی جدید سامسونگ، نکات جالبی درمورد نمایشگر گلکسی زد فولد ۶ ارائه می\\u200cدهد. این ویدیو پس\\u200cاز بحثی کوتاه درمورد تاریخچه\\u200cی تحقیقات غول فناوری کره\\u200cی جنوبی، به فناوری پنل\\u200cهای تاشدنی این شرکت می\\u200cپردازد.\\nدر ویدیوی سامسونگ توضیح داده می\\u200cشود که نمایشگرهای تاشدنی معمولاً از چند لایه تشکیل شده\\u200cاند. نحوه\\u200cی قرارگیری این لایه\\u200cها می\\u200cتواند کیفیت نمایشگر را ازنظر دوام و صافی تعیین کند.\\nنکته\\u200cی جالب درمورد نمایشگر گلکسی زد فولد ۶ اینکه سامسونگ یکی از لایه\\u200cهای آن را با مایعی پوشانده است که توانایی منحصربه\\u200cفردی برای افزایش دوام هنگام اعمال فشار دارد. به آزمایش علمی کلاسیکِ اضافه\\u200cکردن نشاسته\\u200cی ذرت به آب فکر کنید، که مایع را به ماده\\u200cای شبیه ژله تبدیل می\\u200cکند و می\\u200cتواند با اعمال فشار ناگهانی، به\\u200cسرعت به ماده\\u200cی جامد سفت تبدیل شود.\\nمقالات مرتبط:\\nسامسونگ برای تبلیغ گوشی\\u200cهای جدیدش، یک اتوبوس را از وسط تا کرد!\\nبررسی گلکسی زد فولد ۶؛ شاهکار یا تکرار؟\\nسامسونگ می\\u200cگوید به\\u200cلطف لایه\\u200cی مایع جدید در نمایشگر گلکسی زد فولد ۶ موفق شده است بدون کاهش دوام، برخی از لایه\\u200cهای دیگر را حذف کند. حذف این لایه\\u200cها درنهایت به بهبود صافی صفحه\\u200cنمایش، کاهش حاشیه\\u200cها و افزایش روشنایی کمک کرده است.\\nراوی ویدیوی سامسونگ می\\u200cگوید:\\u200c «سامسونگ با گوش\\u200cدادن و پاسخگویی به نیازهای کاربران، همچنان به پیشرفت فناوری برای ساخت نمایشگرهای تاشدنی باریک\\u200cتر، محکم\\u200cتر و روشن\\u200cتر ادامه خواهد داد.» باتوجه\\u200cبه نحوه\\u200cی بیان این جمله، به\\u200cنظر می\\u200cرسد شرکت کره\\u200cای از این فرصت برای اشاره به شایعات گلکسی فولد ۶ اسلیم استفاده کرده است؛ دستگاهی که طبق شایعات اخیر، نسخه\\u200cی باریک\\u200cتر و سبک\\u200cتر گلکسی زد فولد ۶ خواهد بود.'"
      ]
     },
     "execution_count": 17,
     "metadata": {},
     "output_type": "execute_result"
    }
   ],
   "source": [
    "\n",
    "xpath=\"//*[@id=\\\"__next\\\"]/div[2]/div[1]/main/article/header/div/div/h1\"\n",
    "title = wd.find_element(By.XPATH, xpath)\n",
    "\n",
    "xpath_pattern = '//*[@id=\"__next\"]/div[2]/div[1]/main/article/header/div/div/div[2]/div[1]/a/span'\n",
    "span_elements = wd.find_elements(By.XPATH, xpath_pattern)\n",
    "tags = []\n",
    "for elm in span_elements:\n",
    "    tag_text = elm.text\n",
    "    tags.append(tag_text)\n",
    "article = wd.find_element(By.XPATH, \"//*[@id=\\\"__next\\\"]/div[2]/div[1]/main/article/div/div[5]/div/div/div\")\n",
    "article.text"
   ]
  },
  {
   "cell_type": "code",
   "execution_count": null,
   "metadata": {},
   "outputs": [],
   "source": [
    "wd.quit()"
   ]
  },
  {
   "cell_type": "code",
   "execution_count": null,
   "metadata": {},
   "outputs": [],
   "source": []
  }
 ],
 "metadata": {
  "kernelspec": {
   "display_name": "Python 3",
   "language": "python",
   "name": "python3"
  },
  "language_info": {
   "codemirror_mode": {
    "name": "ipython",
    "version": 3
   },
   "file_extension": ".py",
   "mimetype": "text/x-python",
   "name": "python",
   "nbconvert_exporter": "python",
   "pygments_lexer": "ipython3",
   "version": "3.11.6"
  }
 },
 "nbformat": 4,
 "nbformat_minor": 2
}
